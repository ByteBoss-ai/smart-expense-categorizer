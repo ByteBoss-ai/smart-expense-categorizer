{
  "nbformat": 4,
  "nbformat_minor": 0,
  "metadata": {
    "colab": {
      "provenance": []
    },
    "kernelspec": {
      "name": "python3",
      "display_name": "Python 3"
    },
    "language_info": {
      "name": "python"
    }
  },
  "cells": [
    {
      "cell_type": "code",
      "execution_count": null,
      "metadata": {
        "id": "sc7hJ1vSfjZe"
      },
      "outputs": [],
      "source": [
        "import pandas as pd\n",
        "import numpy as np\n",
        "from sklearn.model_selection import train_test_split\n",
        "from sklearn.feature_extraction.text import TfidfVectorizer\n",
        "from sklearn.linear_model import LogisticRegression\n",
        "from sklearn.metrics import classification_report, accuracy_score\n",
        "import re\n",
        "import random"
      ]
    },
    {
      "cell_type": "markdown",
      "source": [
        "### **Data Generation**"
      ],
      "metadata": {
        "id": "hMW3suNThLak"
      }
    },
    {
      "cell_type": "code",
      "source": [
        "categories = {\n",
        "    'Food': ['SWIGGY', 'ZOMATO', 'DOMINOS', 'CAFE COFFEE DAY', 'STARBUCKS', 'RESTAURANT', 'PIZZA HUT'],\n",
        "    'Travel': ['UBER', 'OLA', 'METRO CARD RECHARGE', 'INDIAN RAILWAYS', 'PETROL PUMP', 'FLIGHT TICKET'],\n",
        "    'Groceries': ['GROFER', 'BIGBASKET', 'RELIANCE FRESH', 'SUPERMARKET', 'DAILY NEEDS'],\n",
        "    'Shopping': ['AMAZON', 'FLIPKART', 'MYNTRA', 'SHOE STORE', 'ELECTRONICS'],\n",
        "    'Utilities': ['ELECTRICITY BILL', 'MOBILE RECHARGE', 'BROADBAND BILL', 'WATER SUPPLY'],\n",
        "    'Entertainment': ['NETFLIX', 'PVR CINEMAS', 'BOOKMYSHOW', 'SPOTIFY', 'GAME PASS']\n",
        "}\n",
        "\n",
        "data = []\n",
        "for category, merchants in categories.items():\n",
        "    for merchant in merchants:\n",
        "        for _ in range(50): # generate 50 samples per merchant\n",
        "            # generate a random amount between 50 and 5000\n",
        "            amount = random.randint(50, 5000)\n",
        "            # Create the transaction text\n",
        "            transaction_text = f\"TXN SUCCESSFUL FOR {amount} AT {merchant} VIA DEBIT CARD XXXX\"\n",
        "            data.append({'Transaction_Text': transaction_text, 'Category': category})\n",
        "\n",
        "df = pd.DataFrame(data)"
      ],
      "metadata": {
        "id": "vepu7CeOgy5B"
      },
      "execution_count": null,
      "outputs": []
    },
    {
      "cell_type": "code",
      "source": [
        "print(\"Generated Data Samples:\")\n",
        "print(df.head())\n",
        "print(\"\\nCategory Distribution:\")\n",
        "print(df['Category'].value_counts())"
      ],
      "metadata": {
        "colab": {
          "base_uri": "https://localhost:8080/"
        },
        "id": "Yw9AMfE5g6va",
        "outputId": "69936d11-d66e-443e-acbd-5caf1d606f6b"
      },
      "execution_count": null,
      "outputs": [
        {
          "output_type": "stream",
          "name": "stdout",
          "text": [
            "Generated Data Samples:\n",
            "                                    Transaction_Text Category\n",
            "0  TXN SUCCESSFUL FOR 4158 AT SWIGGY VIA DEBIT CA...     Food\n",
            "1  TXN SUCCESSFUL FOR 4209 AT SWIGGY VIA DEBIT CA...     Food\n",
            "2  TXN SUCCESSFUL FOR 4132 AT SWIGGY VIA DEBIT CA...     Food\n",
            "3  TXN SUCCESSFUL FOR 3230 AT SWIGGY VIA DEBIT CA...     Food\n",
            "4  TXN SUCCESSFUL FOR 4838 AT SWIGGY VIA DEBIT CA...     Food\n",
            "\n",
            "Category Distribution:\n",
            "Category\n",
            "Food             350\n",
            "Travel           300\n",
            "Groceries        250\n",
            "Shopping         250\n",
            "Entertainment    250\n",
            "Utilities        200\n",
            "Name: count, dtype: int64\n"
          ]
        }
      ]
    },
    {
      "cell_type": "markdown",
      "source": [
        "### **Data Preprocesing**"
      ],
      "metadata": {
        "id": "Y4S3r-lShr51"
      }
    },
    {
      "cell_type": "code",
      "source": [
        "# Clean the text (e.g., removing 'TXN SUCCESSFUL FOR', 'VIA DEBIT CARD XXXX')\n",
        "def clean_text(text):\n",
        "    text = text.lower()\n",
        "    text = re.sub(r'(txn successful for|via debit card xxxx|at|for|a/c|ref|debit|credit)', '', text)\n",
        "    text = re.sub(r'\\d+', ' ', text) # Remove numbers (amounts), as we want the model to rely on merchant names\n",
        "    return text.strip()\n",
        "\n",
        "df['Cleaned_Text'] = df['Transaction_Text'].apply(clean_text)\n",
        "\n",
        "# Split the data\n",
        "X = df['Cleaned_Text']\n",
        "y = df['Category']\n",
        "X_train, X_test, y_train, y_test = train_test_split(X, y, test_size=0.2, random_state=42, stratify=y)\n"
      ],
      "metadata": {
        "id": "fl1-pswfgFSI"
      },
      "execution_count": null,
      "outputs": []
    },
    {
      "cell_type": "markdown",
      "source": [
        "### **TF-IDF Vectorizer**"
      ],
      "metadata": {
        "id": "_dnf8Ovpg8bw"
      }
    },
    {
      "cell_type": "code",
      "source": [
        "# TF-IDF + Logistic Regression\n",
        "\n",
        "# Feature Extraction (TF-IDF)\n",
        "tfidf_vectorizer = TfidfVectorizer(ngram_range=(1, 2), max_features=5000)\n",
        "X_train_tfidf = tfidf_vectorizer.fit_transform(X_train)\n",
        "X_test_tfidf = tfidf_vectorizer.transform(X_test)\n",
        "\n",
        "print(f\"\\nTF-IDF Matrix Shape: {X_train_tfidf.shape}\")"
      ],
      "metadata": {
        "colab": {
          "base_uri": "https://localhost:8080/"
        },
        "id": "IC_qEw49hov5",
        "outputId": "ac87b2ae-a0c9-442e-a4d6-23e67acf9944"
      },
      "execution_count": null,
      "outputs": [
        {
          "output_type": "stream",
          "name": "stdout",
          "text": [
            "\n",
            "TF-IDF Matrix Shape: (1280, 64)\n"
          ]
        }
      ]
    },
    {
      "cell_type": "code",
      "source": [
        "# Model Training\n",
        "lr_model = LogisticRegression(max_iter=1000, random_state=42)\n",
        "lr_model.fit(X_train_tfidf, y_train)\n",
        "\n",
        "y_pred_lr = lr_model.predict(X_test_tfidf)\n",
        "\n",
        "print(\"\\n TF-IDF + Logistic Regression Results : \")\n",
        "print(f\"Accuracy: {accuracy_score(y_test, y_pred_lr):.4f}\")\n",
        "print(\"Classification Report:\")\n",
        "print(classification_report(y_test, y_pred_lr))"
      ],
      "metadata": {
        "colab": {
          "base_uri": "https://localhost:8080/"
        },
        "id": "bfzCc5OZi5BW",
        "outputId": "bb37120a-c9a3-480d-bde5-b449193786ad"
      },
      "execution_count": null,
      "outputs": [
        {
          "output_type": "stream",
          "name": "stdout",
          "text": [
            "\n",
            " TF-IDF + Logistic Regression Results : \n",
            "Accuracy: 1.0000\n",
            "Classification Report:\n",
            "               precision    recall  f1-score   support\n",
            "\n",
            "Entertainment       1.00      1.00      1.00        50\n",
            "         Food       1.00      1.00      1.00        70\n",
            "    Groceries       1.00      1.00      1.00        50\n",
            "     Shopping       1.00      1.00      1.00        50\n",
            "       Travel       1.00      1.00      1.00        60\n",
            "    Utilities       1.00      1.00      1.00        40\n",
            "\n",
            "     accuracy                           1.00       320\n",
            "    macro avg       1.00      1.00      1.00       320\n",
            " weighted avg       1.00      1.00      1.00       320\n",
            "\n"
          ]
        }
      ]
    },
    {
      "cell_type": "code",
      "source": [
        "# Prediction Test\n",
        "test_transaction = [\"txn for 450 at PIZZA HUT\", \"txn for 2500 at FLIPKART\"]\n",
        "test_cleaned = [clean_text(t) for t in test_transaction]\n",
        "test_tfidf = tfidf_vectorizer.transform(test_cleaned)\n",
        "predictions = lr_model.predict(test_tfidf)\n",
        "\n",
        "print(\"\\nPrediction Test:\")\n",
        "for text, pred in zip(test_transaction, predictions):\n",
        "    print(f\"Text: '{text}' -> Predicted Category: {pred}\")"
      ],
      "metadata": {
        "colab": {
          "base_uri": "https://localhost:8080/"
        },
        "id": "TNYsc_GDjmBB",
        "outputId": "b1705e33-dd2c-4501-ad6e-f510c177bc7a"
      },
      "execution_count": null,
      "outputs": [
        {
          "output_type": "stream",
          "name": "stdout",
          "text": [
            "\n",
            "Prediction Test:\n",
            "Text: 'txn for 450 at PIZZA HUT' -> Predicted Category: Food\n",
            "Text: 'txn for 2500 at FLIPKART' -> Predicted Category: Shopping\n"
          ]
        }
      ]
    }
  ]
}