{
  "nbformat": 4,
  "nbformat_minor": 0,
  "metadata": {
    "colab": {
      "provenance": [],
      "authorship_tag": "ABX9TyMYDHKTiLdI6+SiOe2B4p6P",
      "include_colab_link": true
    },
    "kernelspec": {
      "name": "python3",
      "display_name": "Python 3"
    },
    "language_info": {
      "name": "python"
    }
  },
  "cells": [
    {
      "cell_type": "markdown",
      "metadata": {
        "id": "view-in-github",
        "colab_type": "text"
      },
      "source": [
        "<a href=\"https://colab.research.google.com/github/ByteBoss-ai/smart-expense-categorizer/blob/main/Smart_Expense_Categorizer.ipynb\" target=\"_parent\"><img src=\"https://colab.research.google.com/assets/colab-badge.svg\" alt=\"Open In Colab\"/></a>"
      ]
    },
    {
      "cell_type": "code",
      "execution_count": 2,
      "metadata": {
        "id": "a4Zgobd1pDh_"
      },
      "outputs": [],
      "source": [
        "#import libraries\n",
        "import random\n",
        "import numpy as np\n",
        "import pandas as pd\n",
        "from sklearn.feature_extraction.text import TfidfVectorizer\n",
        "from sklearn.linear_model import LogisticRegression\n",
        "from sklearn.pipeline import Pipeline\n",
        "from sklearn.model_selection import train_test_split, GridSearchCV\n",
        "from sklearn.metrics import classification_report, confusion_matrix, accuracy_score\n",
        "import matplotlib.pyplot as plt\n",
        "import joblib\n",
        "import os\n",
        "\n",
        "random.seed(42)\n",
        "np.random.seed(42)"
      ]
    },
    {
      "cell_type": "markdown",
      "source": [
        "# Build Synthetic Datasets"
      ],
      "metadata": {
        "id": "m6v24xX5L2cB"
      }
    },
    {
      "cell_type": "code",
      "source": [
        "# Define spending categories and their corresponding merchant names\n",
        "categories = {\n",
        "    \"Food\": [\"Swiggy\", \"Zomato\", \"Dominos\", \"Pizza Hut\", \"KFC\", \"Cafe Coffee Day\", \"Starbucks\", \"Burger King\"],\n",
        "    \"Travel\": [\"Uber\", \"Ola\", \"Metro\", \"Indian Rail\", \"Bus\", \"Flight\", \"Taxi\", \"Auto\"],\n",
        "    \"Grocery\": [\"BigBasket\", \"DMart\", \"Reliance Fresh\", \"Grofers\", \"Nature's Basket\", \"Spencer's\"],\n",
        "    \"Shopping\": [\"Amazon\", \"Flipkart\", \"Myntra\", \"Ajio\", \"Lifestyle\", \"Shoppers Stop\"],\n",
        "    \"Bills\": [\"Electricity Bill\", \"Water Board\", \"Phone Bill\", \"BSNL\", \"Airtel Bill\", \"Jio\"],\n",
        "    \"Entertainment\": [\"Netflix\", \"Spotify\", \"Prime Video\", \"BookMyShow\", \"Cinema\", \"Disney+\"],\n",
        "    \"Health\": [\"Apollo Pharmacy\", \"1mg\", \"MedPlus\", \"Clinic\", \"Hospital\", \"Pharmacy\"],\n",
        "    \"Education\": [\"Coursera\", \"Udemy\", \"Unacademy\", \"BYJU'S\", \"College Fees\", \"Library Fine\"],\n",
        "    \"Fuel\": [\"HP Petrol\", \"IndianOil\", \"Bharat Petroleum\", \"Shell\", \"Fuel\"],\n",
        "    \"Others\": [\"Donation\", \"Rent\", \"Salary\", \"Refund\", \"Insurance\", \"Courier\"]\n",
        "}"
      ],
      "metadata": {
        "id": "SZ__sB9hHzm6"
      },
      "execution_count": 3,
      "outputs": []
    },
    {
      "cell_type": "code",
      "source": [
        "# Define text templates to simulate real-world transaction descriptions\n",
        "templates = [\n",
        "    \"{merchant} {amt}\",\n",
        "    \"{merchant} payment {amt}\",\n",
        "    \"{merchant} order #{oid} - {amt}\",\n",
        "    \"{merchant} - {amt} INR\",\n",
        "    \"{merchant} UPI {amt}\",\n",
        "    \"{merchant} POS {amt}\",\n",
        "    \"{merchant} debit {amt}\",\n",
        "    \"{merchant} credit {amt}\",\n",
        "    \"{merchant} bill {amt}\",\n",
        "    \"{merchant} recharge {amt}\"\n",
        "]"
      ],
      "metadata": {
        "id": "raSIk1MSMSR9"
      },
      "execution_count": 4,
      "outputs": []
    },
    {
      "cell_type": "code",
      "source": [
        "# Initialize empty list to store our synthetic data\n",
        "rows = []"
      ],
      "metadata": {
        "id": "Vbc0uTfMam6W"
      },
      "execution_count": 5,
      "outputs": []
    },
    {
      "cell_type": "code",
      "source": [
        "# Generate synthetic dataset by iterating through each category\n",
        "for cat, merchants in categories.items():\n",
        "    for _ in range(60):  # 60 samples per category\n",
        "        # Randomly select merchant from the category\n",
        "        merchant = random.choice(merchants)\n",
        "        # Generate random amount between 20 and 5000\n",
        "        amt = random.randint(20, 5000)\n",
        "        # Generate random order ID for templates to use it\n",
        "        oid = random.randint(100, 9999)\n",
        "        # Select a random template format\n",
        "        template = random.choice(templates)\n",
        "        # Format the transaction text using the template\n",
        "        text = template.format(merchant=merchant, amt=amt, oid=oid)\n",
        "\n",
        "     # Adding realistic noise/variations to make data more authentic:\n",
        "        # 15% chance to add POS terminal information\n",
        "        if random.random() < 0.15:\n",
        "            text = text + \" - POS 1234\"\n",
        "        # 10% chance to add payment prefix\n",
        "        if random.random() < 0.10:\n",
        "            text = \"Paid to \" + text\n",
        "        # 5% chance to convert to lowercase (simulating inconsistent data entry)\n",
        "        if random.random() < 0.05:\n",
        "            text = text.lower()\n",
        "\n",
        "        # Add generated text and category to dataset\n",
        "        rows.append((text, cat))"
      ],
      "metadata": {
        "id": "edcnfItAar6A"
      },
      "execution_count": 6,
      "outputs": []
    },
    {
      "cell_type": "code",
      "source": [
        "# Create DataFrame from the generated data\n",
        "df = (\n",
        "    pd.DataFrame(rows, columns=[\"text\", \"category\"])\n",
        "    .sample(frac=1, random_state=42)   # Shuffle the dataset randomly\n",
        "    .reset_index(drop=True)            # Reset index after shuffling\n",
        ")"
      ],
      "metadata": {
        "id": "qyaHA0_abv44"
      },
      "execution_count": 7,
      "outputs": []
    },
    {
      "cell_type": "code",
      "source": [
        "# Print dataset statistics\n",
        "print(\"Dataset size:\", df.shape)  # Should show (600, 2) - 600 samples, 2 columns\n",
        "print(df['category'].value_counts())  # Show distribution of categories (should be 60 each)"
      ],
      "metadata": {
        "colab": {
          "base_uri": "https://localhost:8080/"
        },
        "id": "beNzgH7QhKEl",
        "outputId": "47d14b50-73ed-4df8-bad0-138b09a88476"
      },
      "execution_count": 8,
      "outputs": [
        {
          "output_type": "stream",
          "name": "stdout",
          "text": [
            "Dataset size: (600, 2)\n",
            "category\n",
            "Travel           60\n",
            "Health           60\n",
            "Others           60\n",
            "Shopping         60\n",
            "Bills            60\n",
            "Food             60\n",
            "Education        60\n",
            "Entertainment    60\n",
            "Fuel             60\n",
            "Grocery          60\n",
            "Name: count, dtype: int64\n"
          ]
        }
      ]
    },
    {
      "cell_type": "markdown",
      "source": [
        "# Train/test split"
      ],
      "metadata": {
        "id": "0xiFetpUhcMa"
      }
    },
    {
      "cell_type": "code",
      "source": [
        "# Extract features and labels from the dataframe\n",
        "X = df['text'].values\n",
        "y = df['category'].values\n",
        "# Split the dataset into training and testing sets\n",
        "X_train, X_test, y_train, y_test = train_test_split(X, y, test_size=0.18, random_state=42, stratify=y)"
      ],
      "metadata": {
        "id": "2czLPi5VhYJX"
      },
      "execution_count": 9,
      "outputs": []
    },
    {
      "cell_type": "markdown",
      "source": [
        "# Pipeline (TF-IDF + Logistic Regression)"
      ],
      "metadata": {
        "id": "vAppKqUskTna"
      }
    },
    {
      "cell_type": "code",
      "source": [
        "# Creating a machine learning pipeline\n",
        "pipeline = Pipeline([\n",
        "    ('tfidf', TfidfVectorizer(ngram_range=(1,2), min_df=2, max_df=0.95)),\n",
        "    ('clf', LogisticRegression(max_iter=2000, C=1.0))\n",
        "])\n",
        "# Train the model on the training data\n",
        "pipeline.fit(X_train, y_train)"
      ],
      "metadata": {
        "colab": {
          "base_uri": "https://localhost:8080/",
          "height": 155
        },
        "id": "d3E3DeUMixCU",
        "outputId": "5eaa0bc1-00fe-478c-c8ce-88ce413af888"
      },
      "execution_count": 10,
      "outputs": [
        {
          "output_type": "execute_result",
          "data": {
            "text/plain": [
              "Pipeline(steps=[('tfidf',\n",
              "                 TfidfVectorizer(max_df=0.95, min_df=2, ngram_range=(1, 2))),\n",
              "                ('clf', LogisticRegression(max_iter=2000))])"
            ],
            "text/html": [
              "<style>#sk-container-id-1 {\n",
              "  /* Definition of color scheme common for light and dark mode */\n",
              "  --sklearn-color-text: #000;\n",
              "  --sklearn-color-text-muted: #666;\n",
              "  --sklearn-color-line: gray;\n",
              "  /* Definition of color scheme for unfitted estimators */\n",
              "  --sklearn-color-unfitted-level-0: #fff5e6;\n",
              "  --sklearn-color-unfitted-level-1: #f6e4d2;\n",
              "  --sklearn-color-unfitted-level-2: #ffe0b3;\n",
              "  --sklearn-color-unfitted-level-3: chocolate;\n",
              "  /* Definition of color scheme for fitted estimators */\n",
              "  --sklearn-color-fitted-level-0: #f0f8ff;\n",
              "  --sklearn-color-fitted-level-1: #d4ebff;\n",
              "  --sklearn-color-fitted-level-2: #b3dbfd;\n",
              "  --sklearn-color-fitted-level-3: cornflowerblue;\n",
              "\n",
              "  /* Specific color for light theme */\n",
              "  --sklearn-color-text-on-default-background: var(--sg-text-color, var(--theme-code-foreground, var(--jp-content-font-color1, black)));\n",
              "  --sklearn-color-background: var(--sg-background-color, var(--theme-background, var(--jp-layout-color0, white)));\n",
              "  --sklearn-color-border-box: var(--sg-text-color, var(--theme-code-foreground, var(--jp-content-font-color1, black)));\n",
              "  --sklearn-color-icon: #696969;\n",
              "\n",
              "  @media (prefers-color-scheme: dark) {\n",
              "    /* Redefinition of color scheme for dark theme */\n",
              "    --sklearn-color-text-on-default-background: var(--sg-text-color, var(--theme-code-foreground, var(--jp-content-font-color1, white)));\n",
              "    --sklearn-color-background: var(--sg-background-color, var(--theme-background, var(--jp-layout-color0, #111)));\n",
              "    --sklearn-color-border-box: var(--sg-text-color, var(--theme-code-foreground, var(--jp-content-font-color1, white)));\n",
              "    --sklearn-color-icon: #878787;\n",
              "  }\n",
              "}\n",
              "\n",
              "#sk-container-id-1 {\n",
              "  color: var(--sklearn-color-text);\n",
              "}\n",
              "\n",
              "#sk-container-id-1 pre {\n",
              "  padding: 0;\n",
              "}\n",
              "\n",
              "#sk-container-id-1 input.sk-hidden--visually {\n",
              "  border: 0;\n",
              "  clip: rect(1px 1px 1px 1px);\n",
              "  clip: rect(1px, 1px, 1px, 1px);\n",
              "  height: 1px;\n",
              "  margin: -1px;\n",
              "  overflow: hidden;\n",
              "  padding: 0;\n",
              "  position: absolute;\n",
              "  width: 1px;\n",
              "}\n",
              "\n",
              "#sk-container-id-1 div.sk-dashed-wrapped {\n",
              "  border: 1px dashed var(--sklearn-color-line);\n",
              "  margin: 0 0.4em 0.5em 0.4em;\n",
              "  box-sizing: border-box;\n",
              "  padding-bottom: 0.4em;\n",
              "  background-color: var(--sklearn-color-background);\n",
              "}\n",
              "\n",
              "#sk-container-id-1 div.sk-container {\n",
              "  /* jupyter's `normalize.less` sets `[hidden] { display: none; }`\n",
              "     but bootstrap.min.css set `[hidden] { display: none !important; }`\n",
              "     so we also need the `!important` here to be able to override the\n",
              "     default hidden behavior on the sphinx rendered scikit-learn.org.\n",
              "     See: https://github.com/scikit-learn/scikit-learn/issues/21755 */\n",
              "  display: inline-block !important;\n",
              "  position: relative;\n",
              "}\n",
              "\n",
              "#sk-container-id-1 div.sk-text-repr-fallback {\n",
              "  display: none;\n",
              "}\n",
              "\n",
              "div.sk-parallel-item,\n",
              "div.sk-serial,\n",
              "div.sk-item {\n",
              "  /* draw centered vertical line to link estimators */\n",
              "  background-image: linear-gradient(var(--sklearn-color-text-on-default-background), var(--sklearn-color-text-on-default-background));\n",
              "  background-size: 2px 100%;\n",
              "  background-repeat: no-repeat;\n",
              "  background-position: center center;\n",
              "}\n",
              "\n",
              "/* Parallel-specific style estimator block */\n",
              "\n",
              "#sk-container-id-1 div.sk-parallel-item::after {\n",
              "  content: \"\";\n",
              "  width: 100%;\n",
              "  border-bottom: 2px solid var(--sklearn-color-text-on-default-background);\n",
              "  flex-grow: 1;\n",
              "}\n",
              "\n",
              "#sk-container-id-1 div.sk-parallel {\n",
              "  display: flex;\n",
              "  align-items: stretch;\n",
              "  justify-content: center;\n",
              "  background-color: var(--sklearn-color-background);\n",
              "  position: relative;\n",
              "}\n",
              "\n",
              "#sk-container-id-1 div.sk-parallel-item {\n",
              "  display: flex;\n",
              "  flex-direction: column;\n",
              "}\n",
              "\n",
              "#sk-container-id-1 div.sk-parallel-item:first-child::after {\n",
              "  align-self: flex-end;\n",
              "  width: 50%;\n",
              "}\n",
              "\n",
              "#sk-container-id-1 div.sk-parallel-item:last-child::after {\n",
              "  align-self: flex-start;\n",
              "  width: 50%;\n",
              "}\n",
              "\n",
              "#sk-container-id-1 div.sk-parallel-item:only-child::after {\n",
              "  width: 0;\n",
              "}\n",
              "\n",
              "/* Serial-specific style estimator block */\n",
              "\n",
              "#sk-container-id-1 div.sk-serial {\n",
              "  display: flex;\n",
              "  flex-direction: column;\n",
              "  align-items: center;\n",
              "  background-color: var(--sklearn-color-background);\n",
              "  padding-right: 1em;\n",
              "  padding-left: 1em;\n",
              "}\n",
              "\n",
              "\n",
              "/* Toggleable style: style used for estimator/Pipeline/ColumnTransformer box that is\n",
              "clickable and can be expanded/collapsed.\n",
              "- Pipeline and ColumnTransformer use this feature and define the default style\n",
              "- Estimators will overwrite some part of the style using the `sk-estimator` class\n",
              "*/\n",
              "\n",
              "/* Pipeline and ColumnTransformer style (default) */\n",
              "\n",
              "#sk-container-id-1 div.sk-toggleable {\n",
              "  /* Default theme specific background. It is overwritten whether we have a\n",
              "  specific estimator or a Pipeline/ColumnTransformer */\n",
              "  background-color: var(--sklearn-color-background);\n",
              "}\n",
              "\n",
              "/* Toggleable label */\n",
              "#sk-container-id-1 label.sk-toggleable__label {\n",
              "  cursor: pointer;\n",
              "  display: flex;\n",
              "  width: 100%;\n",
              "  margin-bottom: 0;\n",
              "  padding: 0.5em;\n",
              "  box-sizing: border-box;\n",
              "  text-align: center;\n",
              "  align-items: start;\n",
              "  justify-content: space-between;\n",
              "  gap: 0.5em;\n",
              "}\n",
              "\n",
              "#sk-container-id-1 label.sk-toggleable__label .caption {\n",
              "  font-size: 0.6rem;\n",
              "  font-weight: lighter;\n",
              "  color: var(--sklearn-color-text-muted);\n",
              "}\n",
              "\n",
              "#sk-container-id-1 label.sk-toggleable__label-arrow:before {\n",
              "  /* Arrow on the left of the label */\n",
              "  content: \"▸\";\n",
              "  float: left;\n",
              "  margin-right: 0.25em;\n",
              "  color: var(--sklearn-color-icon);\n",
              "}\n",
              "\n",
              "#sk-container-id-1 label.sk-toggleable__label-arrow:hover:before {\n",
              "  color: var(--sklearn-color-text);\n",
              "}\n",
              "\n",
              "/* Toggleable content - dropdown */\n",
              "\n",
              "#sk-container-id-1 div.sk-toggleable__content {\n",
              "  max-height: 0;\n",
              "  max-width: 0;\n",
              "  overflow: hidden;\n",
              "  text-align: left;\n",
              "  /* unfitted */\n",
              "  background-color: var(--sklearn-color-unfitted-level-0);\n",
              "}\n",
              "\n",
              "#sk-container-id-1 div.sk-toggleable__content.fitted {\n",
              "  /* fitted */\n",
              "  background-color: var(--sklearn-color-fitted-level-0);\n",
              "}\n",
              "\n",
              "#sk-container-id-1 div.sk-toggleable__content pre {\n",
              "  margin: 0.2em;\n",
              "  border-radius: 0.25em;\n",
              "  color: var(--sklearn-color-text);\n",
              "  /* unfitted */\n",
              "  background-color: var(--sklearn-color-unfitted-level-0);\n",
              "}\n",
              "\n",
              "#sk-container-id-1 div.sk-toggleable__content.fitted pre {\n",
              "  /* unfitted */\n",
              "  background-color: var(--sklearn-color-fitted-level-0);\n",
              "}\n",
              "\n",
              "#sk-container-id-1 input.sk-toggleable__control:checked~div.sk-toggleable__content {\n",
              "  /* Expand drop-down */\n",
              "  max-height: 200px;\n",
              "  max-width: 100%;\n",
              "  overflow: auto;\n",
              "}\n",
              "\n",
              "#sk-container-id-1 input.sk-toggleable__control:checked~label.sk-toggleable__label-arrow:before {\n",
              "  content: \"▾\";\n",
              "}\n",
              "\n",
              "/* Pipeline/ColumnTransformer-specific style */\n",
              "\n",
              "#sk-container-id-1 div.sk-label input.sk-toggleable__control:checked~label.sk-toggleable__label {\n",
              "  color: var(--sklearn-color-text);\n",
              "  background-color: var(--sklearn-color-unfitted-level-2);\n",
              "}\n",
              "\n",
              "#sk-container-id-1 div.sk-label.fitted input.sk-toggleable__control:checked~label.sk-toggleable__label {\n",
              "  background-color: var(--sklearn-color-fitted-level-2);\n",
              "}\n",
              "\n",
              "/* Estimator-specific style */\n",
              "\n",
              "/* Colorize estimator box */\n",
              "#sk-container-id-1 div.sk-estimator input.sk-toggleable__control:checked~label.sk-toggleable__label {\n",
              "  /* unfitted */\n",
              "  background-color: var(--sklearn-color-unfitted-level-2);\n",
              "}\n",
              "\n",
              "#sk-container-id-1 div.sk-estimator.fitted input.sk-toggleable__control:checked~label.sk-toggleable__label {\n",
              "  /* fitted */\n",
              "  background-color: var(--sklearn-color-fitted-level-2);\n",
              "}\n",
              "\n",
              "#sk-container-id-1 div.sk-label label.sk-toggleable__label,\n",
              "#sk-container-id-1 div.sk-label label {\n",
              "  /* The background is the default theme color */\n",
              "  color: var(--sklearn-color-text-on-default-background);\n",
              "}\n",
              "\n",
              "/* On hover, darken the color of the background */\n",
              "#sk-container-id-1 div.sk-label:hover label.sk-toggleable__label {\n",
              "  color: var(--sklearn-color-text);\n",
              "  background-color: var(--sklearn-color-unfitted-level-2);\n",
              "}\n",
              "\n",
              "/* Label box, darken color on hover, fitted */\n",
              "#sk-container-id-1 div.sk-label.fitted:hover label.sk-toggleable__label.fitted {\n",
              "  color: var(--sklearn-color-text);\n",
              "  background-color: var(--sklearn-color-fitted-level-2);\n",
              "}\n",
              "\n",
              "/* Estimator label */\n",
              "\n",
              "#sk-container-id-1 div.sk-label label {\n",
              "  font-family: monospace;\n",
              "  font-weight: bold;\n",
              "  display: inline-block;\n",
              "  line-height: 1.2em;\n",
              "}\n",
              "\n",
              "#sk-container-id-1 div.sk-label-container {\n",
              "  text-align: center;\n",
              "}\n",
              "\n",
              "/* Estimator-specific */\n",
              "#sk-container-id-1 div.sk-estimator {\n",
              "  font-family: monospace;\n",
              "  border: 1px dotted var(--sklearn-color-border-box);\n",
              "  border-radius: 0.25em;\n",
              "  box-sizing: border-box;\n",
              "  margin-bottom: 0.5em;\n",
              "  /* unfitted */\n",
              "  background-color: var(--sklearn-color-unfitted-level-0);\n",
              "}\n",
              "\n",
              "#sk-container-id-1 div.sk-estimator.fitted {\n",
              "  /* fitted */\n",
              "  background-color: var(--sklearn-color-fitted-level-0);\n",
              "}\n",
              "\n",
              "/* on hover */\n",
              "#sk-container-id-1 div.sk-estimator:hover {\n",
              "  /* unfitted */\n",
              "  background-color: var(--sklearn-color-unfitted-level-2);\n",
              "}\n",
              "\n",
              "#sk-container-id-1 div.sk-estimator.fitted:hover {\n",
              "  /* fitted */\n",
              "  background-color: var(--sklearn-color-fitted-level-2);\n",
              "}\n",
              "\n",
              "/* Specification for estimator info (e.g. \"i\" and \"?\") */\n",
              "\n",
              "/* Common style for \"i\" and \"?\" */\n",
              "\n",
              ".sk-estimator-doc-link,\n",
              "a:link.sk-estimator-doc-link,\n",
              "a:visited.sk-estimator-doc-link {\n",
              "  float: right;\n",
              "  font-size: smaller;\n",
              "  line-height: 1em;\n",
              "  font-family: monospace;\n",
              "  background-color: var(--sklearn-color-background);\n",
              "  border-radius: 1em;\n",
              "  height: 1em;\n",
              "  width: 1em;\n",
              "  text-decoration: none !important;\n",
              "  margin-left: 0.5em;\n",
              "  text-align: center;\n",
              "  /* unfitted */\n",
              "  border: var(--sklearn-color-unfitted-level-1) 1pt solid;\n",
              "  color: var(--sklearn-color-unfitted-level-1);\n",
              "}\n",
              "\n",
              ".sk-estimator-doc-link.fitted,\n",
              "a:link.sk-estimator-doc-link.fitted,\n",
              "a:visited.sk-estimator-doc-link.fitted {\n",
              "  /* fitted */\n",
              "  border: var(--sklearn-color-fitted-level-1) 1pt solid;\n",
              "  color: var(--sklearn-color-fitted-level-1);\n",
              "}\n",
              "\n",
              "/* On hover */\n",
              "div.sk-estimator:hover .sk-estimator-doc-link:hover,\n",
              ".sk-estimator-doc-link:hover,\n",
              "div.sk-label-container:hover .sk-estimator-doc-link:hover,\n",
              ".sk-estimator-doc-link:hover {\n",
              "  /* unfitted */\n",
              "  background-color: var(--sklearn-color-unfitted-level-3);\n",
              "  color: var(--sklearn-color-background);\n",
              "  text-decoration: none;\n",
              "}\n",
              "\n",
              "div.sk-estimator.fitted:hover .sk-estimator-doc-link.fitted:hover,\n",
              ".sk-estimator-doc-link.fitted:hover,\n",
              "div.sk-label-container:hover .sk-estimator-doc-link.fitted:hover,\n",
              ".sk-estimator-doc-link.fitted:hover {\n",
              "  /* fitted */\n",
              "  background-color: var(--sklearn-color-fitted-level-3);\n",
              "  color: var(--sklearn-color-background);\n",
              "  text-decoration: none;\n",
              "}\n",
              "\n",
              "/* Span, style for the box shown on hovering the info icon */\n",
              ".sk-estimator-doc-link span {\n",
              "  display: none;\n",
              "  z-index: 9999;\n",
              "  position: relative;\n",
              "  font-weight: normal;\n",
              "  right: .2ex;\n",
              "  padding: .5ex;\n",
              "  margin: .5ex;\n",
              "  width: min-content;\n",
              "  min-width: 20ex;\n",
              "  max-width: 50ex;\n",
              "  color: var(--sklearn-color-text);\n",
              "  box-shadow: 2pt 2pt 4pt #999;\n",
              "  /* unfitted */\n",
              "  background: var(--sklearn-color-unfitted-level-0);\n",
              "  border: .5pt solid var(--sklearn-color-unfitted-level-3);\n",
              "}\n",
              "\n",
              ".sk-estimator-doc-link.fitted span {\n",
              "  /* fitted */\n",
              "  background: var(--sklearn-color-fitted-level-0);\n",
              "  border: var(--sklearn-color-fitted-level-3);\n",
              "}\n",
              "\n",
              ".sk-estimator-doc-link:hover span {\n",
              "  display: block;\n",
              "}\n",
              "\n",
              "/* \"?\"-specific style due to the `<a>` HTML tag */\n",
              "\n",
              "#sk-container-id-1 a.estimator_doc_link {\n",
              "  float: right;\n",
              "  font-size: 1rem;\n",
              "  line-height: 1em;\n",
              "  font-family: monospace;\n",
              "  background-color: var(--sklearn-color-background);\n",
              "  border-radius: 1rem;\n",
              "  height: 1rem;\n",
              "  width: 1rem;\n",
              "  text-decoration: none;\n",
              "  /* unfitted */\n",
              "  color: var(--sklearn-color-unfitted-level-1);\n",
              "  border: var(--sklearn-color-unfitted-level-1) 1pt solid;\n",
              "}\n",
              "\n",
              "#sk-container-id-1 a.estimator_doc_link.fitted {\n",
              "  /* fitted */\n",
              "  border: var(--sklearn-color-fitted-level-1) 1pt solid;\n",
              "  color: var(--sklearn-color-fitted-level-1);\n",
              "}\n",
              "\n",
              "/* On hover */\n",
              "#sk-container-id-1 a.estimator_doc_link:hover {\n",
              "  /* unfitted */\n",
              "  background-color: var(--sklearn-color-unfitted-level-3);\n",
              "  color: var(--sklearn-color-background);\n",
              "  text-decoration: none;\n",
              "}\n",
              "\n",
              "#sk-container-id-1 a.estimator_doc_link.fitted:hover {\n",
              "  /* fitted */\n",
              "  background-color: var(--sklearn-color-fitted-level-3);\n",
              "}\n",
              "</style><div id=\"sk-container-id-1\" class=\"sk-top-container\"><div class=\"sk-text-repr-fallback\"><pre>Pipeline(steps=[(&#x27;tfidf&#x27;,\n",
              "                 TfidfVectorizer(max_df=0.95, min_df=2, ngram_range=(1, 2))),\n",
              "                (&#x27;clf&#x27;, LogisticRegression(max_iter=2000))])</pre><b>In a Jupyter environment, please rerun this cell to show the HTML representation or trust the notebook. <br />On GitHub, the HTML representation is unable to render, please try loading this page with nbviewer.org.</b></div><div class=\"sk-container\" hidden><div class=\"sk-item sk-dashed-wrapped\"><div class=\"sk-label-container\"><div class=\"sk-label fitted sk-toggleable\"><input class=\"sk-toggleable__control sk-hidden--visually\" id=\"sk-estimator-id-1\" type=\"checkbox\" ><label for=\"sk-estimator-id-1\" class=\"sk-toggleable__label fitted sk-toggleable__label-arrow\"><div><div>Pipeline</div></div><div><a class=\"sk-estimator-doc-link fitted\" rel=\"noreferrer\" target=\"_blank\" href=\"https://scikit-learn.org/1.6/modules/generated/sklearn.pipeline.Pipeline.html\">?<span>Documentation for Pipeline</span></a><span class=\"sk-estimator-doc-link fitted\">i<span>Fitted</span></span></div></label><div class=\"sk-toggleable__content fitted\"><pre>Pipeline(steps=[(&#x27;tfidf&#x27;,\n",
              "                 TfidfVectorizer(max_df=0.95, min_df=2, ngram_range=(1, 2))),\n",
              "                (&#x27;clf&#x27;, LogisticRegression(max_iter=2000))])</pre></div> </div></div><div class=\"sk-serial\"><div class=\"sk-item\"><div class=\"sk-estimator fitted sk-toggleable\"><input class=\"sk-toggleable__control sk-hidden--visually\" id=\"sk-estimator-id-2\" type=\"checkbox\" ><label for=\"sk-estimator-id-2\" class=\"sk-toggleable__label fitted sk-toggleable__label-arrow\"><div><div>TfidfVectorizer</div></div><div><a class=\"sk-estimator-doc-link fitted\" rel=\"noreferrer\" target=\"_blank\" href=\"https://scikit-learn.org/1.6/modules/generated/sklearn.feature_extraction.text.TfidfVectorizer.html\">?<span>Documentation for TfidfVectorizer</span></a></div></label><div class=\"sk-toggleable__content fitted\"><pre>TfidfVectorizer(max_df=0.95, min_df=2, ngram_range=(1, 2))</pre></div> </div></div><div class=\"sk-item\"><div class=\"sk-estimator fitted sk-toggleable\"><input class=\"sk-toggleable__control sk-hidden--visually\" id=\"sk-estimator-id-3\" type=\"checkbox\" ><label for=\"sk-estimator-id-3\" class=\"sk-toggleable__label fitted sk-toggleable__label-arrow\"><div><div>LogisticRegression</div></div><div><a class=\"sk-estimator-doc-link fitted\" rel=\"noreferrer\" target=\"_blank\" href=\"https://scikit-learn.org/1.6/modules/generated/sklearn.linear_model.LogisticRegression.html\">?<span>Documentation for LogisticRegression</span></a></div></label><div class=\"sk-toggleable__content fitted\"><pre>LogisticRegression(max_iter=2000)</pre></div> </div></div></div></div></div></div>"
            ]
          },
          "metadata": {},
          "execution_count": 10
        }
      ]
    },
    {
      "cell_type": "markdown",
      "source": [
        "# 4) Evaluation"
      ],
      "metadata": {
        "id": "tPP1erIllWWj"
      }
    },
    {
      "cell_type": "code",
      "source": [
        "# Generate predictions on the test\n",
        "y_pred = pipeline.predict(X_test)\n",
        "# Calculate and print overall accuracy\n",
        "print('\\nTest accuracy:', accuracy_score(y_test, y_pred))\n",
        "# Print detailed classification report with various metrics\n",
        "print('\\nClassification report:\\n')\n",
        "print(classification_report(y_test, y_pred, digits=4))"
      ],
      "metadata": {
        "colab": {
          "base_uri": "https://localhost:8080/"
        },
        "id": "0uzQknq2k30o",
        "outputId": "c73302ac-b3c9-489b-c5b6-c3e5902344c8"
      },
      "execution_count": 11,
      "outputs": [
        {
          "output_type": "stream",
          "name": "stdout",
          "text": [
            "\n",
            "Test accuracy: 1.0\n",
            "\n",
            "Classification report:\n",
            "\n",
            "               precision    recall  f1-score   support\n",
            "\n",
            "        Bills     1.0000    1.0000    1.0000        11\n",
            "    Education     1.0000    1.0000    1.0000        10\n",
            "Entertainment     1.0000    1.0000    1.0000        11\n",
            "         Food     1.0000    1.0000    1.0000        11\n",
            "         Fuel     1.0000    1.0000    1.0000        11\n",
            "      Grocery     1.0000    1.0000    1.0000        11\n",
            "       Health     1.0000    1.0000    1.0000        11\n",
            "       Others     1.0000    1.0000    1.0000        11\n",
            "     Shopping     1.0000    1.0000    1.0000        10\n",
            "       Travel     1.0000    1.0000    1.0000        11\n",
            "\n",
            "     accuracy                         1.0000       108\n",
            "    macro avg     1.0000    1.0000    1.0000       108\n",
            " weighted avg     1.0000    1.0000    1.0000       108\n",
            "\n"
          ]
        }
      ]
    },
    {
      "cell_type": "code",
      "source": [
        "# Generate confusion matrix to visualize model performance\n",
        "cm = confusion_matrix(y_test, y_pred, labels=sorted(set(y_test)))\n",
        "plt.figure(figsize=(9,7))\n",
        "plt.imshow(cm, interpolation='nearest')\n",
        "plt.title('Confusion matrix')\n",
        "labels = sorted(set(y_test))\n",
        "plt.xticks(np.arange(len(labels)), labels, rotation=45, ha='right')\n",
        "plt.yticks(np.arange(len(labels)), labels)\n",
        "for i in range(cm.shape[0]):\n",
        "    for j in range(cm.shape[1]):\n",
        "        plt.text(j, i, format(cm[i,j], 'd'), ha='center', va='center')\n",
        "plt.tight_layout()\n",
        "plt.show()"
      ],
      "metadata": {
        "colab": {
          "base_uri": "https://localhost:8080/",
          "height": 707
        },
        "id": "3wZNQOinmBkp",
        "outputId": "e6008a3b-2b4b-4c23-a13d-6f31e778a705"
      },
      "execution_count": 12,
      "outputs": [
        {
          "output_type": "display_data",
          "data": {
            "text/plain": [
              "<Figure size 900x700 with 1 Axes>"
            ],
            "image/png": "[encoded data removed]"
          },
          "metadata": {}
        }
      ]
    },
    {
      "cell_type": "code",
      "source": [
        "# Inspect top features per class\n",
        "vectorizer = pipeline.named_steps['tfidf']  # Get TF-IDF from pipeline\n",
        "clf = pipeline.named_steps['clf']           # Get classifier from pipeline"
      ],
      "metadata": {
        "id": "kUZmAmz5mXaH"
      },
      "execution_count": 13,
      "outputs": []
    },
    {
      "cell_type": "code",
      "source": [
        "def top_features_per_class(clf, vectorizer, top_n=8):\n",
        "    \"\"\"Get top predictive words for each category\"\"\"\n",
        "    feature_names = vectorizer.get_feature_names_out()  # All words/ngrams\n",
        "    coefs = clf.coef_                                   # LR coefficients per class\n",
        "    classes = clf.classes_                              # Category names\n",
        "\n",
        "    result = {}\n",
        "    for idx, c in enumerate(classes):\n",
        "        # Find indices of top features (highest positive coefficients)\n",
        "        top_idx = np.argsort(coefs[idx])[-top_n:][::-1]\n",
        "        # Convert indices to actual words\n",
        "        result[c] = [feature_names[i] for i in top_idx]\n",
        "    return result"
      ],
      "metadata": {
        "id": "lrbykc3Iwzq4"
      },
      "execution_count": 14,
      "outputs": []
    },
    {
      "cell_type": "code",
      "source": [
        "# Get top 10 features per category\n",
        "tf_top = top_features_per_class(clf, vectorizer, top_n=10)"
      ],
      "metadata": {
        "id": "LhuOdg-Yw3oi"
      },
      "execution_count": 15,
      "outputs": []
    },
    {
      "cell_type": "code",
      "source": [
        "# Display results\n",
        "for cat, feats in tf_top.items():\n",
        "    print(f\"\\nTop features for {cat}: \\n\", feats)"
      ],
      "metadata": {
        "colab": {
          "base_uri": "https://localhost:8080/"
        },
        "id": "M5lSyNLWw6Fm",
        "outputId": "4201cd7b-7187-4a65-9bb5-5a0f2c69dc03"
      },
      "execution_count": 16,
      "outputs": [
        {
          "output_type": "stream",
          "name": "stdout",
          "text": [
            "\n",
            "Top features for Bills: \n",
            " ['jio', 'bsnl', 'bill', 'airtel bill', 'airtel', 'phone bill', 'phone', 'board', 'water', 'water board']\n",
            "\n",
            "Top features for Education: \n",
            " ['unacademy', 'udemy', 'coursera', 'byju', 'library fine', 'library', 'fine', 'college fees', 'fees', 'college']\n",
            "\n",
            "Top features for Entertainment: \n",
            " ['bookmyshow', 'spotify', 'netflix', 'cinema', 'disney', 'netflix debit', 'prime video', 'prime', 'video', 'disney debit']\n",
            "\n",
            "Top features for Food: \n",
            " ['zomato', 'swiggy', 'kfc', 'starbucks', 'dominos', 'burger king', 'king', 'burger', 'coffee day', 'coffee']\n",
            "\n",
            "Top features for Fuel: \n",
            " ['shell', 'fuel', 'indianoil', 'petroleum', 'bharat petroleum', 'bharat', 'petrol', 'hp', 'hp petrol', 'shell credit']\n",
            "\n",
            "Top features for Grocery: \n",
            " ['dmart', 'spencer', 'grofers', 'bigbasket', 'nature', 'basket', 'nature basket', 'reliance fresh', 'fresh', 'reliance']\n",
            "\n",
            "Top features for Health: \n",
            " ['pharmacy', 'medplus', 'clinic', '1mg', 'hospital', 'apollo', 'apollo pharmacy', 'pharmacy recharge', '1mg order', 'clinic recharge']\n",
            "\n",
            "Top features for Others: \n",
            " ['courier', 'salary', 'rent', 'donation', 'insurance', 'refund', 'courier debit', 'salary bill', 'insurance credit', 'insurance bill']\n",
            "\n",
            "Top features for Shopping: \n",
            " ['amazon', 'myntra', 'lifestyle', 'flipkart', 'ajio', 'shoppers stop', 'shoppers', 'stop', 'lifestyle debit', 'to myntra']\n",
            "\n",
            "Top features for Travel: \n",
            " ['auto', 'ola', 'flight', 'bus', 'uber', 'taxi', 'metro', 'indian rail', 'indian', 'rail']\n"
          ]
        }
      ]
    },
    {
      "cell_type": "markdown",
      "source": [
        "# Save the pipeline"
      ],
      "metadata": {
        "id": "qQm158pWa-lq"
      }
    },
    {
      "cell_type": "code",
      "source": [
        "out_path = 'expense_categorizer_pipeline.joblib'\n",
        "joblib.dump(pipeline, out_path)\n",
        "print('\\nSaved trained pipeline to', out_path)"
      ],
      "metadata": {
        "colab": {
          "base_uri": "https://localhost:8080/"
        },
        "id": "nyM46VxHxERo",
        "outputId": "3fb1ae97-5cdc-490d-e096-42f5f5eb5275"
      },
      "execution_count": 17,
      "outputs": [
        {
          "output_type": "stream",
          "name": "stdout",
          "text": [
            "\n",
            "Saved trained pipeline to expense_categorizer_pipeline.joblib\n"
          ]
        }
      ]
    },
    {
      "cell_type": "markdown",
      "source": [
        "# Sample predictions"
      ],
      "metadata": {
        "id": "b0BjzfEfbSNy"
      }
    },
    {
      "cell_type": "code",
      "source": [
        "samples = [\n",
        "    \"Swiggy order 250 - POS 1234\",\n",
        "    \"Uber 300\",\n",
        "    \"Amazon 1200\",\n",
        "    \"Electricity Bill 1500\",\n",
        "    \"BigBasket 900\",\n",
        "    \"Netflix payment 199\",\n",
        "    \"Apollo Pharmacy 650\",\n",
        "    \"HP Petrol 2400\",\n",
        "    \"Donation 500\",\n",
        "    \"Udemy course 799\"\n",
        "]"
      ],
      "metadata": {
        "id": "YEcvrsg2a9sR"
      },
      "execution_count": 18,
      "outputs": []
    },
    {
      "cell_type": "code",
      "source": [
        "probs = pipeline.predict_proba(samples)\n",
        "preds = pipeline.predict(samples)"
      ],
      "metadata": {
        "id": "eQ7wMUjEblhf"
      },
      "execution_count": 19,
      "outputs": []
    },
    {
      "cell_type": "code",
      "source": [
        "for s,p,prob in zip(samples, preds, probs.max(axis=1)):\n",
        "    print(f\"{s}  -> {p} (prob {prob:.3f})\")"
      ],
      "metadata": {
        "colab": {
          "base_uri": "https://localhost:8080/"
        },
        "id": "cmKtbqhxboyl",
        "outputId": "2ec20aea-3dad-4b6d-b0f6-1d978b1ae9d5"
      },
      "execution_count": 20,
      "outputs": [
        {
          "output_type": "stream",
          "name": "stdout",
          "text": [
            "Swiggy order 250 - POS 1234  -> Food (prob 0.451)\n",
            "Uber 300  -> Travel (prob 0.552)\n",
            "Amazon 1200  -> Shopping (prob 0.689)\n",
            "Electricity Bill 1500  -> Bills (prob 0.587)\n",
            "BigBasket 900  -> Grocery (prob 0.582)\n",
            "Netflix payment 199  -> Entertainment (prob 0.547)\n",
            "Apollo Pharmacy 650  -> Health (prob 0.736)\n",
            "HP Petrol 2400  -> Fuel (prob 0.779)\n",
            "Donation 500  -> Others (prob 0.566)\n",
            "Udemy course 799  -> Education (prob 0.739)\n"
          ]
        }
      ]
    }
  ]
}